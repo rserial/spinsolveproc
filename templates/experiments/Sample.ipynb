{
 "cells": [
  {
   "cell_type": "markdown",
   "id": "e4ffbb5c-bbf5-4504-bf7a-740b597cfd70",
   "metadata": {},
   "source": [
    "# Sample Template\n",
    "\n",
    "Here is some sample text, and a first block of code"
   ]
  },
  {
   "cell_type": "code",
   "execution_count": null,
   "id": "20220671-9479-4937-bd70-71ce494b2993",
   "metadata": {
    "tags": []
   },
   "outputs": [],
   "source": [
    "\"\"\"Sample Template.\"\"\"\n",
    "\n",
    "# insert code here"
   ]
  },
  {
   "cell_type": "markdown",
   "id": "e976af91-822f-4968-a525-e14c934eb108",
   "metadata": {},
   "source": [
    "## A second heading\n",
    "\n",
    "and some more text"
   ]
  },
  {
   "cell_type": "code",
   "execution_count": null,
   "id": "3cff9e7a-7966-4b41-9992-967446c6037a",
   "metadata": {
    "tags": []
   },
   "outputs": [],
   "source": []
  }
 ],
 "metadata": {
  "kernelspec": {
   "display_name": "Python 3 (ipykernel)",
   "language": "python",
   "name": "python3"
  },
  "language_info": {
   "codemirror_mode": {
    "name": "ipython",
    "version": 3
   },
   "file_extension": ".py",
   "mimetype": "text/x-python",
   "name": "python",
   "nbconvert_exporter": "python",
   "pygments_lexer": "ipython3",
   "version": "3.11.0"
  }
 },
 "nbformat": 4,
 "nbformat_minor": 5
}
